{
 "cells": [
  {
   "cell_type": "markdown",
   "metadata": {},
   "source": [
    "# Python Exercise Book 01"
   ]
  },
  {
   "cell_type": "markdown",
   "metadata": {},
   "source": [
    "The exercises in this notebook are provided to help you develop your analysis skills by\n",
    "giving you the opportunity to practice breaking small problems down into\n",
    "sequences of steps. Also, completing these exercises will help you become\n",
    "familiar with Python’s syntax."
   ]
  },
  {
   "cell_type": "markdown",
   "metadata": {},
   "source": [
    "### 1- Area of a Room in Square Meters"
   ]
  },
  {
   "cell_type": "code",
   "execution_count": 1,
   "metadata": {},
   "outputs": [
    {
     "name": "stdout",
     "output_type": "stream",
     "text": [
      "Enter the length of the room in meters: 345\n",
      "Enter the length of the room in meters: 217\n",
      "Area = 74865.00 square meters.\n"
     ]
    }
   ],
   "source": [
    "length = float(input(\"Enter the length of the room in meters: \"))\n",
    "width = float(input(\"Enter the length of the room in meters: \"))\n",
    "\n",
    "area = length*width\n",
    "\n",
    "print(\"Area = {0:.2f} square meters.\".format(area))"
   ]
  },
  {
   "cell_type": "markdown",
   "metadata": {},
   "source": [
    "### 2- Area of a Field in Acre"
   ]
  },
  {
   "cell_type": "code",
   "execution_count": 2,
   "metadata": {},
   "outputs": [
    {
     "name": "stdout",
     "output_type": "stream",
     "text": [
      "Enter the length of the field in meters: 345\n",
      "Enter the length of the field in meters: 217\n",
      "Area of the field is 18.50 acres.\n"
     ]
    }
   ],
   "source": [
    "length = float(input(\"Enter the length of the field in meters: \"))\n",
    "width = float(input(\"Enter the length of the field in meters: \"))\n",
    "\n",
    "area = length*width/4046.86\n",
    "\n",
    "print(\"Area of the field is {0:.2f} acres.\".format(area))"
   ]
  },
  {
   "cell_type": "markdown",
   "metadata": {},
   "source": [
    "### 3- Tax and Tip"
   ]
  },
  {
   "cell_type": "code",
   "execution_count": 2,
   "metadata": {},
   "outputs": [
    {
     "name": "stdout",
     "output_type": "stream",
     "text": [
      "Enter cost of the meal:45\n",
      "The tax is 2.70 \n",
      "The tip is 5.40 \n",
      "The total is RM53.10.\n"
     ]
    }
   ],
   "source": [
    "TAX_RATE = 0.06\n",
    "TIP_RATE = 0.12\n",
    "\n",
    "cost = int(input(\"Enter cost of the meal:\"))\n",
    "\n",
    "tax = cost*TAX_RATE\n",
    "tip = cost*TIP_RATE\n",
    "\n",
    "total = cost+tip+tax\n",
    "\n",
    "print(\"The tax is {0:.2f} \\nThe tip is {1:.2f} \\nThe total is RM{2:.2f}.\"\n",
    "      .format(tax,tip, total))"
   ]
  },
  {
   "cell_type": "markdown",
   "metadata": {},
   "source": [
    "### 4- Sum of the First n Positive Integers"
   ]
  },
  {
   "cell_type": "code",
   "execution_count": 9,
   "metadata": {},
   "outputs": [
    {
     "name": "stdout",
     "output_type": "stream",
     "text": [
      "Enter a positive integer:10\n",
      "Sum= 55.0\n"
     ]
    }
   ],
   "source": [
    "n = int(input(\"Enter a positive integer:\"))\n",
    "Sum = n*(n+1)/2\n",
    "print(\"Sum= {}\".format(Sum))"
   ]
  },
  {
   "cell_type": "code",
   "execution_count": 10,
   "metadata": {},
   "outputs": [
    {
     "name": "stdout",
     "output_type": "stream",
     "text": [
      "Enter a positive integer:10\n",
      "Sum= 55\n"
     ]
    }
   ],
   "source": [
    "n = int(input(\"Enter a positive integer:\"))\n",
    "Sum=0\n",
    "for i in range(1,n+1):\n",
    "    Sum+=i\n",
    "\n",
    "print(\"Sum= {}\".format(Sum))"
   ]
  },
  {
   "cell_type": "markdown",
   "metadata": {},
   "source": [
    "### 5- What Color is that Square?"
   ]
  },
  {
   "cell_type": "code",
   "execution_count": 11,
   "metadata": {},
   "outputs": [
    {
     "name": "stdout",
     "output_type": "stream",
     "text": [
      "Enter column letter:b\n",
      "Enter row number: 5\n",
      "The square B5 is White.\n"
     ]
    }
   ],
   "source": [
    "col = input(\"Enter column letter:\")\n",
    "col = col.upper()\n",
    "row = int(input(\"Enter row number: \"))\n",
    "\n",
    "if col in ['A', 'C', 'E', 'G']:\n",
    "    if row%2==0:\n",
    "        color = \"White\"\n",
    "    else:\n",
    "        color = \"Black\"\n",
    "elif col in ['B','D','F','H']:\n",
    "    if row%2==0:\n",
    "        color = \"Black\"\n",
    "    else:\n",
    "        color = \"White\"\n",
    "\n",
    "print(\"The square {}{} is {}.\".format(col,row,color))"
   ]
  },
  {
   "cell_type": "markdown",
   "metadata": {},
   "source": [
    "### 6- Average"
   ]
  },
  {
   "cell_type": "code",
   "execution_count": 15,
   "metadata": {},
   "outputs": [
    {
     "name": "stdout",
     "output_type": "stream",
     "text": [
      "Enter a number:12\n",
      "Enter a number:14\n",
      "Enter a number:0\n",
      "Average of odd numbers = 0.00\n",
      "Average of even numbers = 13.00\n"
     ]
    }
   ],
   "source": [
    "count_odd=0\n",
    "sum_odd=0\n",
    "count_even=0\n",
    "sum_even=0\n",
    "flag = True\n",
    "while flag:\n",
    "    num = int(input(\"Enter a number:\"))\n",
    "    if num==0:\n",
    "        flag=False\n",
    "    elif num%2==0:\n",
    "        sum_even+=num\n",
    "        count_even+=1\n",
    "    else:\n",
    "        sum_odd+=num\n",
    "        count_odd+=1\n",
    "if count_odd!=0:\n",
    "    print(\"Average of odd numbers = {:.2f}\".format(sum_odd/count_odd))\n",
    "else:\n",
    "    print(\"Average of odd numbers = {:.2f}\".format(0.0))\n",
    "if count_even!=0:\n",
    "    print(\"Average of even numbers = {:.2f}\".format(sum_even/count_even))\n",
    "else:\n",
    "    print(\"Average of even numbers = {:.2f}\".format(0.0))\n",
    "    "
   ]
  },
  {
   "cell_type": "code",
   "execution_count": 1,
   "metadata": {},
   "outputs": [
    {
     "name": "stdout",
     "output_type": "stream",
     "text": [
      "Enter a number:0\n",
      "Enter a number:0\n",
      "Enter a number:5\n",
      "Enter a number:4\n",
      "Enter a number:3\n",
      "Enter a number:2\n",
      "Enter a number:1\n",
      "Enter a number:0\n",
      "Average of odd numbers = 3.00\n",
      "Average of even numbers = 3.00\n"
     ]
    }
   ],
   "source": [
    "count_odd=0\n",
    "sum_odd=0\n",
    "count_even=0\n",
    "sum_even=0\n",
    "flag = True\n",
    "has_nonzero = False\n",
    "\n",
    "while flag:\n",
    "    num = int(input(\"Enter a number:\"))\n",
    "    if num==0:\n",
    "        if has_nonzero:\n",
    "            flag = False\n",
    "        else:\n",
    "            continue\n",
    "    elif num%2==0:\n",
    "        sum_even+=num\n",
    "        count_even+=1\n",
    "        has_nonzero = True\n",
    "    else:\n",
    "        sum_odd+=num\n",
    "        count_odd+=1\n",
    "        has_nonzero = True\n",
    "\n",
    "if count_odd!=0:\n",
    "    print(\"Average of odd numbers = {:.2f}\".format(sum_odd/count_odd))\n",
    "else:\n",
    "    print(\"Average of odd numbers = {:.2f}\".format(0.0))\n",
    "if count_even!=0:\n",
    "    print(\"Average of even numbers = {:.2f}\".format(sum_even/count_even))\n",
    "else:\n",
    "    print(\"Average of even numbers = {:.2f}\".format(0.0))"
   ]
  },
  {
   "cell_type": "markdown",
   "metadata": {},
   "source": [
    "### 7- Write a Python program to calculate the below series:\n",
    "\n",
    "$$\n",
    "S = \\frac{1}{2^0}+\\frac{1}{2^1}+\\frac{1}{2^2}+\\dotsm+\\frac{1}{2^n}\n",
    "$$\n"
   ]
  },
  {
   "cell_type": "code",
   "execution_count": 18,
   "metadata": {},
   "outputs": [
    {
     "name": "stdout",
     "output_type": "stream",
     "text": [
      "Enter the value of n: 4\n",
      "Sum= 1.94\n"
     ]
    }
   ],
   "source": [
    "Sum=0\n",
    "n=int(input(\"Enter the value of n: \"))\n",
    "for power in range(n+1):\n",
    "    Sum+=1/(2**power)\n",
    "print(\"Sum= {:.2f}\".format(Sum))"
   ]
  },
  {
   "cell_type": "markdown",
   "metadata": {},
   "source": [
    "### 8- Write a Python program to calculate the below series:\n",
    "\n",
    "$$\n",
    "S = \\frac{1}{2^0}-\\frac{1}{2^1}+\\frac{1}{2^2}-\\dotsm\\pm\\frac{1}{2^n}\n",
    "$$"
   ]
  },
  {
   "cell_type": "code",
   "execution_count": 20,
   "metadata": {},
   "outputs": [
    {
     "name": "stdout",
     "output_type": "stream",
     "text": [
      "Enter the value of n: 4\n",
      "Sum= 0.69\n"
     ]
    }
   ],
   "source": [
    "Sum=0\n",
    "sign=1\n",
    "n=int(input(\"Enter the value of n: \"))\n",
    "for power in range(n+1):\n",
    "    Sum+=1/(sign*(2**power))\n",
    "    sign=-sign\n",
    "print(\"Sum= {:.2f}\".format(Sum))"
   ]
  },
  {
   "cell_type": "markdown",
   "metadata": {},
   "source": [
    "### 9- Write a program to find factorial of a number:\n",
    "The factorial of a positive integer n is equal to:\n",
    "$$ \n",
    "n!=1\\times 2 \\times 3 \\times 4\\dotsm \\times n.\n",
    "$$\n",
    "Hint: The factorial of a negative number doesn't exist. And, the factorial of 0 is 1, 0! = 1"
   ]
  },
  {
   "cell_type": "code",
   "execution_count": 2,
   "metadata": {},
   "outputs": [
    {
     "name": "stdout",
     "output_type": "stream",
     "text": [
      "Enter a number:5\n",
      "5!=120\n"
     ]
    }
   ],
   "source": [
    "fact = 1\n",
    "i = 1\n",
    "num = int(input(\"Enter a number:\"))\n",
    "\n",
    "while(i<=num):\n",
    "    fact*=i\n",
    "    i+=1\n",
    "print(\"{}!={}\".format(num,fact))"
   ]
  },
  {
   "cell_type": "markdown",
   "metadata": {},
   "source": [
    "### 10- Write a program to generate the Fibonacci series less than a given number N.\n",
    "\n",
    "The Fibonacci numbers are the numbers in the following integer sequence.\n",
    "$$\n",
    "0, 1, 1, 2, 3, 5, 8, 13, 21, 34, 55, 89, 144,\\dotsm\n",
    "$$\n"
   ]
  },
  {
   "cell_type": "code",
   "execution_count": 3,
   "metadata": {},
   "outputs": [
    {
     "name": "stdout",
     "output_type": "stream",
     "text": [
      "Enter a number:200\n",
      "[0, 1, 1, 2, 3, 5, 8, 13, 21, 34, 55, 89, 144]\n"
     ]
    }
   ],
   "source": [
    "f0=0\n",
    "f1=1\n",
    "num = int(input(\"Enter a number:\"))\n",
    "fibList=[0,1]\n",
    "while(f0+f1<num):\n",
    "    f2=f0+f1\n",
    "    fibList.append(f2)\n",
    "    f0=f1\n",
    "    f1=f2\n",
    "print(fibList)"
   ]
  }
 ],
 "metadata": {
  "kernelspec": {
   "display_name": "Python 3",
   "language": "python",
   "name": "python3"
  },
  "language_info": {
   "codemirror_mode": {
    "name": "ipython",
    "version": 3
   },
   "file_extension": ".py",
   "mimetype": "text/x-python",
   "name": "python",
   "nbconvert_exporter": "python",
   "pygments_lexer": "ipython3",
   "version": "3.8.5"
  }
 },
 "nbformat": 4,
 "nbformat_minor": 2
}
