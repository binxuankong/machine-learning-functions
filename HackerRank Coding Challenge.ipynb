{
 "cells": [
  {
   "cell_type": "markdown",
   "metadata": {},
   "source": [
    "### Efficient Janitor\n",
    "\n",
    "The janitor of a high school is extremely efficient. By the end of each day, all of the school's waste is in plastic bags between 1.01 pounds and 3.00 pounds. All plastic bags are then taken to the trash bins outside. One trip is described as selecting a number of bags which together do not weigh more than 3.00 pounds, dumping them in the outside trash can and returning to the school. Given the number of plastic bags $n$, and the weights of each bag, determine the minimum number of trips the janitor has to make."
   ]
  },
  {
   "cell_type": "code",
   "execution_count": 1,
   "metadata": {},
   "outputs": [],
   "source": [
    "import math\n",
    "import os\n",
    "import random\n",
    "import re\n",
    "import sys\n",
    "\n",
    "# The function is expected to return an INTEGER.\n",
    "# The function accepts FLOAT_ARRAY weight as parameter.\n",
    "def efficientJanitor(weight):\n",
    "    # Write your code here\n",
    "    max_weight = 3.0\n",
    "    num_trips = 0\n",
    "    # Sort the list\n",
    "    weight.sort()\n",
    "    while len(weight) > 0:\n",
    "        # Get the bag with the maximum weight\n",
    "        current_weight = weight.pop()\n",
    "        print(current_weight)\n",
    "        # Since the bags weigh betweet 1.01 to 3.0, a maximum of 2 bags can be carried at one time\n",
    "        # So we get the maximum possible combination\n",
    "        for w in weight:\n",
    "            if current_weight + w <= 3.0:\n",
    "                weight.remove(w)\n",
    "                print(w)\n",
    "                break\n",
    "        num_trips += 1\n",
    "        print()\n",
    "    return num_trips"
   ]
  },
  {
   "cell_type": "code",
   "execution_count": 2,
   "metadata": {},
   "outputs": [
    {
     "name": "stdout",
     "output_type": "stream",
     "text": [
      "2.5\n",
      "\n",
      "1.99\n",
      "1.01\n",
      "\n",
      "1.5\n",
      "1.01\n",
      "\n"
     ]
    },
    {
     "data": {
      "text/plain": [
       "3"
      ]
     },
     "execution_count": 2,
     "metadata": {},
     "output_type": "execute_result"
    }
   ],
   "source": [
    "efficientJanitor([1.01, 1.99, 2.5, 1.5, 1.01])"
   ]
  },
  {
   "cell_type": "code",
   "execution_count": 3,
   "metadata": {},
   "outputs": [
    {
     "name": "stdout",
     "output_type": "stream",
     "text": [
      "2.4\n",
      "\n",
      "1.4\n",
      "1.01\n",
      "\n",
      "1.01\n",
      "1.01\n",
      "\n"
     ]
    },
    {
     "data": {
      "text/plain": [
       "3"
      ]
     },
     "execution_count": 3,
     "metadata": {},
     "output_type": "execute_result"
    }
   ],
   "source": [
    "efficientJanitor([1.01, 1.01, 1.01, 1.4, 2.4])"
   ]
  },
  {
   "cell_type": "code",
   "execution_count": 4,
   "metadata": {},
   "outputs": [
    {
     "name": "stdout",
     "output_type": "stream",
     "text": [
      "1.991\n",
      "\n",
      "1.4\n",
      "1.01\n",
      "\n",
      "1.32\n",
      "\n"
     ]
    },
    {
     "data": {
      "text/plain": [
       "3"
      ]
     },
     "execution_count": 4,
     "metadata": {},
     "output_type": "execute_result"
    }
   ],
   "source": [
    "efficientJanitor([1.01, 1.991, 1.32, 1.4])"
   ]
  },
  {
   "cell_type": "markdown",
   "metadata": {},
   "source": [
    "### Divisible String\n",
    "\n",
    "Given two strings, $s$ and $t$, create a function that operates per the following rules:\n",
    "\n",
    "1. Find whether string $s$ is divisible by string $t$. String $s$ divisible by string $t$ if string $t$ can be concatenated some number of times to obtain the string $s$.\n",
    "    - If $s$ is divisible, find the smallest string $u$, such that it can be concatenated some number of times to obtain both $s$ and $t$.\n",
    "    - If it is not divisble, set the return value to -1\n",
    "<br><br>\n",
    "2. Return the length of the string $u$ or -1"
   ]
  },
  {
   "cell_type": "code",
   "execution_count": 5,
   "metadata": {},
   "outputs": [],
   "source": [
    "import math\n",
    "import os\n",
    "import random\n",
    "import re\n",
    "import sys\n",
    "\n",
    "# The function is expected to return an INTEGER.\n",
    "# The function accepts following parameters:\n",
    "#  1. STRING s\n",
    "#  2. STRING t\n",
    "def findSmallestDivisor(s, t):\n",
    "    # Write your code here\n",
    "    # If string s is divisible by string t, we should get an empty string when we substract t from s\n",
    "    # We can use the replace() function for the substraction\n",
    "    if s.replace(t, \"\") == \"\":\n",
    "        # If string s is divisble by string t, the string u is the smallest repeating pattern that\n",
    "        # exists in string t\n",
    "        # Assuming we cannot import external library to use regular expression to find such pattern\n",
    "        for i in range(1, len(t)+1):\n",
    "            u = t[:i]\n",
    "            # The smallest pattern\n",
    "            if t.replace(u, \"\") == \"\":\n",
    "                return len(u)\n",
    "        # No smallest pattern, return length of string t\n",
    "        return len(t)\n",
    "    # Not divisible\n",
    "    else:\n",
    "        return -1"
   ]
  },
  {
   "cell_type": "code",
   "execution_count": 6,
   "metadata": {},
   "outputs": [
    {
     "data": {
      "text/plain": [
       "3"
      ]
     },
     "execution_count": 6,
     "metadata": {},
     "output_type": "execute_result"
    }
   ],
   "source": [
    "s = \"bcdbcdbcdbcd\"\n",
    "t = \"bcdbcd\"\n",
    "findSmallestDivisor(s, t)"
   ]
  },
  {
   "cell_type": "code",
   "execution_count": 7,
   "metadata": {},
   "outputs": [
    {
     "data": {
      "text/plain": [
       "'bcd'"
      ]
     },
     "execution_count": 7,
     "metadata": {},
     "output_type": "execute_result"
    }
   ],
   "source": [
    "t[:int(len(t) / 2)]"
   ]
  },
  {
   "cell_type": "code",
   "execution_count": 8,
   "metadata": {},
   "outputs": [
    {
     "data": {
      "text/plain": [
       "-1"
      ]
     },
     "execution_count": 8,
     "metadata": {},
     "output_type": "execute_result"
    }
   ],
   "source": [
    "s = \"bcdbcdbcd\"\n",
    "t = \"bcdbcd\"\n",
    "findSmallestDivisor(s, t)"
   ]
  },
  {
   "cell_type": "code",
   "execution_count": 9,
   "metadata": {},
   "outputs": [
    {
     "data": {
      "text/plain": [
       "4"
      ]
     },
     "execution_count": 9,
     "metadata": {},
     "output_type": "execute_result"
    }
   ],
   "source": [
    "s = \"lrbblrbb\"\n",
    "t = \"lrbb\"\n",
    "findSmallestDivisor(s, t)"
   ]
  },
  {
   "cell_type": "code",
   "execution_count": 10,
   "metadata": {},
   "outputs": [
    {
     "data": {
      "text/plain": [
       "2"
      ]
     },
     "execution_count": 10,
     "metadata": {},
     "output_type": "execute_result"
    }
   ],
   "source": [
    "s = \"rbrb\"\n",
    "t = \"rbrb\"\n",
    "findSmallestDivisor(s, t)"
   ]
  },
  {
   "cell_type": "markdown",
   "metadata": {},
   "source": [
    "### Predicting the Temperature\n",
    "\n",
    "Given the hourly temperatur data for each $24$ hour period in $p$ prior days spanning from `startDate` to `endDate` (inclusive), predict the hourly temperature data for the next $n$ days starting from the day after `endDate`."
   ]
  },
  {
   "cell_type": "code",
   "execution_count": 11,
   "metadata": {},
   "outputs": [],
   "source": [
    "import numpy as np\n",
    "import pandas as pd\n",
    "import statsmodels.api as sm\n",
    "\n",
    "def predictTemperature(startDate, endDate, temperature, n):\n",
    "    return"
   ]
  },
  {
   "cell_type": "code",
   "execution_count": 12,
   "metadata": {},
   "outputs": [],
   "source": [
    "startdate = '2013-01-01'\n",
    "enddate = '2013-01-01'\n",
    "temperature = [34.38, 34.36, 34.74, 35.26, 35.23, 35.29, 35.64, 36.02, 36.1, 36.98, 37.01, 36.75, 36.01, 35.66, \\\n",
    "               34.72, 33.9, 32.62, 31.51, 30.73, 29.5, 26.94, 25.47, 23.84, 22.55]\n",
    "n = 1"
   ]
  },
  {
   "cell_type": "code",
   "execution_count": 13,
   "metadata": {},
   "outputs": [
    {
     "data": {
      "text/html": [
       "<div>\n",
       "<style scoped>\n",
       "    .dataframe tbody tr th:only-of-type {\n",
       "        vertical-align: middle;\n",
       "    }\n",
       "\n",
       "    .dataframe tbody tr th {\n",
       "        vertical-align: top;\n",
       "    }\n",
       "\n",
       "    .dataframe thead th {\n",
       "        text-align: right;\n",
       "    }\n",
       "</style>\n",
       "<table border=\"1\" class=\"dataframe\">\n",
       "  <thead>\n",
       "    <tr style=\"text-align: right;\">\n",
       "      <th></th>\n",
       "      <th>Temperature</th>\n",
       "    </tr>\n",
       "  </thead>\n",
       "  <tbody>\n",
       "    <tr>\n",
       "      <th>2013-01-01 00:00:00</th>\n",
       "      <td>34.38</td>\n",
       "    </tr>\n",
       "    <tr>\n",
       "      <th>2013-01-01 01:00:00</th>\n",
       "      <td>34.36</td>\n",
       "    </tr>\n",
       "    <tr>\n",
       "      <th>2013-01-01 02:00:00</th>\n",
       "      <td>34.74</td>\n",
       "    </tr>\n",
       "    <tr>\n",
       "      <th>2013-01-01 03:00:00</th>\n",
       "      <td>35.26</td>\n",
       "    </tr>\n",
       "    <tr>\n",
       "      <th>2013-01-01 04:00:00</th>\n",
       "      <td>35.23</td>\n",
       "    </tr>\n",
       "  </tbody>\n",
       "</table>\n",
       "</div>"
      ],
      "text/plain": [
       "                     Temperature\n",
       "2013-01-01 00:00:00        34.38\n",
       "2013-01-01 01:00:00        34.36\n",
       "2013-01-01 02:00:00        34.74\n",
       "2013-01-01 03:00:00        35.26\n",
       "2013-01-01 04:00:00        35.23"
      ]
     },
     "execution_count": 13,
     "metadata": {},
     "output_type": "execute_result"
    }
   ],
   "source": [
    "startDate = pd.to_datetime(startdate, format='%Y-%m-%d')\n",
    "endDate = pd.to_datetime(startdate, format='%Y-%m-%d')\n",
    "df = pd.DataFrame(index=pd.date_range(start=startDate, end=endDate + pd.DateOffset(days=1), freq='1H', \\\n",
    "                                            closed='left'))\n",
    "df['Temperature'] = temperature\n",
    "df.head()"
   ]
  },
  {
   "cell_type": "code",
   "execution_count": 14,
   "metadata": {},
   "outputs": [
    {
     "data": {
      "text/html": [
       "<div>\n",
       "<style scoped>\n",
       "    .dataframe tbody tr th:only-of-type {\n",
       "        vertical-align: middle;\n",
       "    }\n",
       "\n",
       "    .dataframe tbody tr th {\n",
       "        vertical-align: top;\n",
       "    }\n",
       "\n",
       "    .dataframe thead th {\n",
       "        text-align: right;\n",
       "    }\n",
       "</style>\n",
       "<table border=\"1\" class=\"dataframe\">\n",
       "  <thead>\n",
       "    <tr style=\"text-align: right;\">\n",
       "      <th></th>\n",
       "    </tr>\n",
       "  </thead>\n",
       "  <tbody>\n",
       "    <tr>\n",
       "      <th>2013-01-01 00:00:00</th>\n",
       "    </tr>\n",
       "    <tr>\n",
       "      <th>2013-01-01 01:00:00</th>\n",
       "    </tr>\n",
       "    <tr>\n",
       "      <th>2013-01-01 02:00:00</th>\n",
       "    </tr>\n",
       "    <tr>\n",
       "      <th>2013-01-01 03:00:00</th>\n",
       "    </tr>\n",
       "    <tr>\n",
       "      <th>2013-01-01 04:00:00</th>\n",
       "    </tr>\n",
       "  </tbody>\n",
       "</table>\n",
       "</div>"
      ],
      "text/plain": [
       "Empty DataFrame\n",
       "Columns: []\n",
       "Index: [2013-01-01 00:00:00, 2013-01-01 01:00:00, 2013-01-01 02:00:00, 2013-01-01 03:00:00, 2013-01-01 04:00:00]"
      ]
     },
     "execution_count": 14,
     "metadata": {},
     "output_type": "execute_result"
    }
   ],
   "source": [
    "df_test = pd.DataFrame(index=pd.date_range(start=endDate, periods=24*n, freq='1H', closed='left'))\n",
    "df_test.head()"
   ]
  },
  {
   "cell_type": "code",
   "execution_count": 15,
   "metadata": {},
   "outputs": [
    {
     "data": {
      "text/html": [
       "<div>\n",
       "<style scoped>\n",
       "    .dataframe tbody tr th:only-of-type {\n",
       "        vertical-align: middle;\n",
       "    }\n",
       "\n",
       "    .dataframe tbody tr th {\n",
       "        vertical-align: top;\n",
       "    }\n",
       "\n",
       "    .dataframe thead th {\n",
       "        text-align: right;\n",
       "    }\n",
       "</style>\n",
       "<table border=\"1\" class=\"dataframe\">\n",
       "  <thead>\n",
       "    <tr style=\"text-align: right;\">\n",
       "      <th></th>\n",
       "      <th>Temperature</th>\n",
       "    </tr>\n",
       "  </thead>\n",
       "  <tbody>\n",
       "    <tr>\n",
       "      <th>count</th>\n",
       "      <td>24.000000</td>\n",
       "    </tr>\n",
       "    <tr>\n",
       "      <th>mean</th>\n",
       "      <td>32.967083</td>\n",
       "    </tr>\n",
       "    <tr>\n",
       "      <th>std</th>\n",
       "      <td>4.273107</td>\n",
       "    </tr>\n",
       "    <tr>\n",
       "      <th>min</th>\n",
       "      <td>22.550000</td>\n",
       "    </tr>\n",
       "    <tr>\n",
       "      <th>25%</th>\n",
       "      <td>31.315000</td>\n",
       "    </tr>\n",
       "    <tr>\n",
       "      <th>50%</th>\n",
       "      <td>34.730000</td>\n",
       "    </tr>\n",
       "    <tr>\n",
       "      <th>75%</th>\n",
       "      <td>35.747500</td>\n",
       "    </tr>\n",
       "    <tr>\n",
       "      <th>max</th>\n",
       "      <td>37.010000</td>\n",
       "    </tr>\n",
       "  </tbody>\n",
       "</table>\n",
       "</div>"
      ],
      "text/plain": [
       "       Temperature\n",
       "count    24.000000\n",
       "mean     32.967083\n",
       "std       4.273107\n",
       "min      22.550000\n",
       "25%      31.315000\n",
       "50%      34.730000\n",
       "75%      35.747500\n",
       "max      37.010000"
      ]
     },
     "execution_count": 15,
     "metadata": {},
     "output_type": "execute_result"
    }
   ],
   "source": [
    "df.describe()"
   ]
  },
  {
   "cell_type": "code",
   "execution_count": 16,
   "metadata": {},
   "outputs": [
    {
     "data": {
      "text/html": [
       "<div>\n",
       "<style scoped>\n",
       "    .dataframe tbody tr th:only-of-type {\n",
       "        vertical-align: middle;\n",
       "    }\n",
       "\n",
       "    .dataframe tbody tr th {\n",
       "        vertical-align: top;\n",
       "    }\n",
       "\n",
       "    .dataframe thead th {\n",
       "        text-align: right;\n",
       "    }\n",
       "</style>\n",
       "<table border=\"1\" class=\"dataframe\">\n",
       "  <thead>\n",
       "    <tr style=\"text-align: right;\">\n",
       "      <th></th>\n",
       "      <th>Temperature</th>\n",
       "      <th>Lag 1</th>\n",
       "      <th>Lag 2</th>\n",
       "      <th>Lag 3</th>\n",
       "    </tr>\n",
       "  </thead>\n",
       "  <tbody>\n",
       "    <tr>\n",
       "      <th>2013-01-01 00:00:00</th>\n",
       "      <td>34.38</td>\n",
       "      <td>NaN</td>\n",
       "      <td>NaN</td>\n",
       "      <td>NaN</td>\n",
       "    </tr>\n",
       "    <tr>\n",
       "      <th>2013-01-01 01:00:00</th>\n",
       "      <td>34.36</td>\n",
       "      <td>34.38</td>\n",
       "      <td>NaN</td>\n",
       "      <td>NaN</td>\n",
       "    </tr>\n",
       "    <tr>\n",
       "      <th>2013-01-01 02:00:00</th>\n",
       "      <td>34.74</td>\n",
       "      <td>34.36</td>\n",
       "      <td>34.38</td>\n",
       "      <td>NaN</td>\n",
       "    </tr>\n",
       "    <tr>\n",
       "      <th>2013-01-01 03:00:00</th>\n",
       "      <td>35.26</td>\n",
       "      <td>34.74</td>\n",
       "      <td>34.36</td>\n",
       "      <td>34.38</td>\n",
       "    </tr>\n",
       "    <tr>\n",
       "      <th>2013-01-01 04:00:00</th>\n",
       "      <td>35.23</td>\n",
       "      <td>35.26</td>\n",
       "      <td>34.74</td>\n",
       "      <td>34.36</td>\n",
       "    </tr>\n",
       "  </tbody>\n",
       "</table>\n",
       "</div>"
      ],
      "text/plain": [
       "                     Temperature  Lag 1  Lag 2  Lag 3\n",
       "2013-01-01 00:00:00        34.38    NaN    NaN    NaN\n",
       "2013-01-01 01:00:00        34.36  34.38    NaN    NaN\n",
       "2013-01-01 02:00:00        34.74  34.36  34.38    NaN\n",
       "2013-01-01 03:00:00        35.26  34.74  34.36  34.38\n",
       "2013-01-01 04:00:00        35.23  35.26  34.74  34.36"
      ]
     },
     "execution_count": 16,
     "metadata": {},
     "output_type": "execute_result"
    }
   ],
   "source": [
    "# Feature engineering - lagged data\n",
    "# Get up to 3 lag\n",
    "df_train = df.copy()\n",
    "for i in range(1, 4):\n",
    "    df_train['Lag '+str(i)] = df.shift(i)\n",
    "    \n",
    "df_train.head()"
   ]
  },
  {
   "cell_type": "code",
   "execution_count": 17,
   "metadata": {},
   "outputs": [
    {
     "data": {
      "text/plain": [
       "2013-01-02 00:00:00    22.277471\n",
       "2013-01-02 01:00:00    22.260052\n",
       "2013-01-02 02:00:00    22.242645\n",
       "2013-01-02 03:00:00    22.225253\n",
       "2013-01-02 04:00:00    22.207874\n",
       "2013-01-02 05:00:00    22.190509\n",
       "2013-01-02 06:00:00    22.173157\n",
       "2013-01-02 07:00:00    22.155819\n",
       "2013-01-02 08:00:00    22.138494\n",
       "2013-01-02 09:00:00    22.121183\n",
       "2013-01-02 10:00:00    22.103886\n",
       "2013-01-02 11:00:00    22.086602\n",
       "2013-01-02 12:00:00    22.069331\n",
       "2013-01-02 13:00:00    22.052074\n",
       "2013-01-02 14:00:00    22.034831\n",
       "2013-01-02 15:00:00    22.017601\n",
       "2013-01-02 16:00:00    22.000384\n",
       "2013-01-02 17:00:00    21.983181\n",
       "2013-01-02 18:00:00    21.965991\n",
       "2013-01-02 19:00:00    21.948815\n",
       "2013-01-02 20:00:00    21.931653\n",
       "2013-01-02 21:00:00    21.914503\n",
       "2013-01-02 22:00:00    21.897367\n",
       "2013-01-02 23:00:00    21.880245\n",
       "Freq: H, Name: predicted_mean, dtype: float64"
      ]
     },
     "execution_count": 17,
     "metadata": {},
     "output_type": "execute_result"
    }
   ],
   "source": [
    "temp_model = sm.tsa.SARIMAX(df, order=(1,0,1), freq='H').fit()\n",
    "temp_model.forecast(len(df_test))"
   ]
  }
 ],
 "metadata": {
  "kernelspec": {
   "display_name": "Python 3",
   "language": "python",
   "name": "python3"
  },
  "language_info": {
   "codemirror_mode": {
    "name": "ipython",
    "version": 3
   },
   "file_extension": ".py",
   "mimetype": "text/x-python",
   "name": "python",
   "nbconvert_exporter": "python",
   "pygments_lexer": "ipython3",
   "version": "3.8.5"
  }
 },
 "nbformat": 4,
 "nbformat_minor": 4
}
